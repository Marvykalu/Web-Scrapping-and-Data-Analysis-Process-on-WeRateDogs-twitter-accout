{
 "cells": [
  {
   "cell_type": "markdown",
   "metadata": {},
   "source": [
    "# <font size = \"8\" color=lightblue>  <div align=\"center\"> Data Wrangling of the WeRateDogs Tweet Archive: General insights and Visualization</div></font> "
   ]
  },
  {
   "cell_type": "markdown",
   "metadata": {},
   "source": [
    "# What is Data Wrangling?\n",
    "\n",
    "Real-world data rarely comes clean. Hence we define data wrangling as the process of gathering, assessing and cleaning data for \"Wow!\"-worthy analyses and visualizations.\n"
   ]
  },
  {
   "cell_type": "markdown",
   "metadata": {},
   "source": [
    "# When would you need to wrangle a data?\n",
    "\n",
    "Fortunately data wrangling is the first step to take when you have a data analysis project in hand. When it comes to real-world data, a quick visual assessment can reveal issues with the data.\n",
    "\n",
    "Issues of real-world data are:\n",
    "\n",
    "* Quality issues:\n",
    " * missing enteries\n",
    " * duplicates\n",
    " * incorrect data\n",
    " * validity\n",
    "* Structural issues:\n",
    " * Inaapropriate data entry.\n",
    " \n"
   ]
  },
  {
   "cell_type": "markdown",
   "metadata": {},
   "source": [
    "# Let's look at an example"
   ]
  },
  {
   "cell_type": "markdown",
   "metadata": {},
   "source": [
    "# <font color=blue>WeRateDogs Enhanced Twitter Archive</font>"
   ]
  },
  {
   "cell_type": "markdown",
   "metadata": {},
   "source": [
    "[WeRateDogs](https://en.wikipedia.org/wiki/WeRateDogs) is a Twitter account of Twitter user [@dog_rates](https://twitter.com/dog_rates) that rates people's dogs with a humorous comment about the dog. \n",
    "\n",
    "WeRateDogs asks people to send photos of their dogs, then tweets selected photos rating and a humorous comment. Dogs are rated on a scale of one to ten, but are invariably given ratings in excess of the maximum, such as \"13/10\". Popular posts are re-posted on Instagram and Facebook.\n",
    "\n",
    "Some of the issues with the tweet archive data includes\n",
    "\n",
    "* Missing images of dogs in some tweets\n",
    "* Duplicates of tweet id\n",
    "* Inaccurate enteries of dog's name, breeds and stages.\n"
   ]
  },
  {
   "cell_type": "markdown",
   "metadata": {},
   "source": [
    "# What is our data analysis problem?\n",
    "\n",
    "To wrangle WeRateDogs Twitter data to create interesting and trustworthy analyses and visualizations. I’m going to use Python to wrangle the data. We’ll use the Pandas and Matplotlib libraries to help build up our dataframe and create visualizations.\n",
    "\n",
    "I’m using a Jupyter Notebook to code in and and you can get the finished product from my Github repo.\n",
    "\n",
    "\n",
    "### Let's see some useful libraries"
   ]
  },
  {
   "cell_type": "code",
   "execution_count": 6,
   "metadata": {},
   "outputs": [],
   "source": [
    "import matplotlib\n",
    "import pandas as pd\n",
    "import numpy as np\n",
    "import matplotlib.pyplot as plt\n",
    "import seaborn as sns\n",
    "%matplotlib inline\n",
    "import requests\n",
    "import tweepy\n",
    "from tweepy import OAuthHandler\n",
    "import json\n",
    "from timeit import default_timer as timer\n",
    "import re"
   ]
  },
  {
   "cell_type": "markdown",
   "metadata": {},
   "source": [
    "# <font color=blue>Insights and Visualization </font>"
   ]
  },
  {
   "cell_type": "markdown",
   "metadata": {},
   "source": [
    "One of the charts we created using these libraries is:\n",
    "\n",
    "<img src=\"rf_correlation.png\" width=700/>\n",
    "\n",
    "### _What does the chart tell us?_\n",
    "\n",
    "The chart is a scatter plot of a relationship between favorites and retweets in Pandas. It tells us that retweets and number of likes (favorites) have a strong and positive correlation. As it is expected, the higher the number of retweeted posts, the more people gets to see the post and like the post.  \n"
   ]
  },
  {
   "cell_type": "markdown",
   "metadata": {},
   "source": [
    "### Has there being a change in the fovorites and retweets counts over time?\n",
    "\n",
    "<img src=\"rf_timestamp.pdf\" width = 900/>"
   ]
  },
  {
   "cell_type": "markdown",
   "metadata": {},
   "source": [
    "Indeed yes! The number of favorites and retweets have increased over time as shown from the chart above. The number of favorites is higher than retweets."
   ]
  },
  {
   "cell_type": "markdown",
   "metadata": {},
   "source": [
    "Talk of a relationship between rating, favorites and retweets,\n",
    "\n",
    "### Do higher rated dogs get more retweets hence favorites? \n",
    "\n",
    "<img src=\"rf_rating.pdf\" width = 900/>"
   ]
  },
  {
   "cell_type": "markdown",
   "metadata": {},
   "source": [
    "Yes yes! Observe that the maximum rating in the data set is 14. The chart above shows that the dogs with the highest number of retweets and favorites have the rating of 13 and favorites 12 respectively. However on average, dogs with in this rating category have lower number of likes and retweets as we will see later.\n"
   ]
  },
  {
   "cell_type": "markdown",
   "metadata": {},
   "source": [
    "### Let us now draw attention towards the dogs, which breeds are popular? Which gets the highest rating, retweets and favorites? "
   ]
  },
  {
   "cell_type": "markdown",
   "metadata": {},
   "source": [
    "### What are the top 10 most popular dog breeds?\n",
    "\n",
    "We selected the top 10 breeds with highest number of counts, below is a barchat showing the relationship between dog breeds and counts. "
   ]
  },
  {
   "cell_type": "markdown",
   "metadata": {},
   "source": [
    "<img src=\"bar_dogbreed.png\" width = 900/>"
   ]
  },
  {
   "cell_type": "markdown",
   "metadata": {},
   "source": [
    "Golden Retriever is the most popular dog breed in the dataset with over 80 counts. \n",
    "\n",
    "## Is popularity in dog breed due to high rating, number of retweets or number of likes (favorites)?"
   ]
  },
  {
   "cell_type": "markdown",
   "metadata": {},
   "source": [
    "To answer this question, we calculated the mean rating for each dog breed and selected the 10 we have shown a bar chat of the mean rating vs dog breeds in the below. "
   ]
  },
  {
   "cell_type": "markdown",
   "metadata": {},
   "source": [
    "<img src=\"rate_dogbreed.png\" />"
   ]
  },
  {
   "cell_type": "markdown",
   "metadata": {},
   "source": [
    "Bedlington Terrier which is not in the list of top 10 most populardog breed, is seen here to have the higest rating. Interestingly, we see that non of the most popular dog breeds are in the list of highest average rating. This shows that popularity in dog breeds are not due to rating."
   ]
  },
  {
   "cell_type": "markdown",
   "metadata": {},
   "source": [
    "## Which dog breed has the highest number of retweets and likes?"
   ]
  },
  {
   "cell_type": "markdown",
   "metadata": {},
   "source": [
    "<img src=\"breed_fr.png\" />"
   ]
  },
  {
   "cell_type": "markdown",
   "metadata": {},
   "source": [
    "As we have discussed earlier, popularity of dogs breeds implies increased retweet counts and favorite counts respectively. When we look at the chart above, English springer has the highest mean retweets and favorites. We see that Bedlington Terrier which has the highest rating and it is 4th dog breed with highest retweets and favorites.\n"
   ]
  },
  {
   "cell_type": "markdown",
   "metadata": {},
   "source": [
    "# Dog Stage\n",
    "\n",
    "## What can we say about the different dog stages: Pupper, Puppo, Doggo, Floofer?"
   ]
  },
  {
   "cell_type": "markdown",
   "metadata": {},
   "source": [
    "<img src=\"bar_dogstage.png\" />"
   ]
  },
  {
   "cell_type": "markdown",
   "metadata": {},
   "source": [
    "The most popular dog stage is Pupper, however it has the lowest mean rating out of all dog stages. Floofer on the otherhnd which is the least popular dog stage, has the highest rating."
   ]
  },
  {
   "cell_type": "markdown",
   "metadata": {},
   "source": [
    "<img src=\"dog_stage1.png\" />"
   ]
  },
  {
   "cell_type": "markdown",
   "metadata": {},
   "source": [
    "We see Floofer which is the least popular dog stage in the data state, has the highest rating, and number of favourites. Doggo has the higest number of retweets."
   ]
  },
  {
   "cell_type": "markdown",
   "metadata": {},
   "source": [
    "## Do you want to get a new dog by investigating the WeRateDogs twitter account\n",
    "\n",
    "Consider the Bedlington Terrier dog in the Floofer stage.You probably do  not wannt to base your judgment by looking at the retee"
   ]
  },
  {
   "cell_type": "markdown",
   "metadata": {},
   "source": [
    "## Want to get complete information about the data wrangling process?\n",
    "\n",
    "Find more information in wrangle_act.ipynb.\n"
   ]
  },
  {
   "cell_type": "code",
   "execution_count": 10,
   "metadata": {},
   "outputs": [
    {
     "data": {
      "text/plain": [
       "0"
      ]
     },
     "execution_count": 10,
     "metadata": {},
     "output_type": "execute_result"
    }
   ],
   "source": [
    "from subprocess import call\n",
    "call(['python', '-m', 'nbconvert', 'act_report.ipynb'])\n"
   ]
  },
  {
   "cell_type": "code",
   "execution_count": null,
   "metadata": {},
   "outputs": [],
   "source": []
  }
 ],
 "metadata": {
  "kernelspec": {
   "display_name": "Python 3",
   "language": "python",
   "name": "python3"
  },
  "language_info": {
   "codemirror_mode": {
    "name": "ipython",
    "version": 3
   },
   "file_extension": ".py",
   "mimetype": "text/x-python",
   "name": "python",
   "nbconvert_exporter": "python",
   "pygments_lexer": "ipython3",
   "version": "3.7.7"
  }
 },
 "nbformat": 4,
 "nbformat_minor": 4
}
